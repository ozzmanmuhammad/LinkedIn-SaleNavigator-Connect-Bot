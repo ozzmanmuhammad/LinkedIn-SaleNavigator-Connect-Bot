{
 "cells": [
  {
   "attachments": {},
   "cell_type": "markdown",
   "metadata": {},
   "source": [
    "# Introduction\n",
    "\n",
    "Notebook for scraping and create a bot to send them connects with custom messages in the sale navigator\n",
    "linkedIn.\n",
    "\n",
    "**Note:**\n",
    "* This code will only work for the linkedin's sale navigator link (page source) after applying the filters\n",
    "* This code will create a excel sheet and that simple code ftn can be modified to store other details too.\n",
    "* This code is only for educational purpose."
   ]
  },
  {
   "attachments": {},
   "cell_type": "markdown",
   "metadata": {},
   "source": [
    "## Installation\n",
    "\n",
    "* Please first install the required libraries using: \n",
    "    ``pip install -r requirements.txt``\n",
    "* Download chrome-driver of matching version with the chrome browser | https://chromedriver.chromium.org/downloads\n",
    "* Place the driver in a folder and give the path as following.\n",
    "* Add the username/email and password in the config.txt or you can add them in the cell too."
   ]
  },
  {
   "cell_type": "code",
   "execution_count": 30,
   "metadata": {
    "collapsed": true
   },
   "outputs": [],
   "source": [
    "# import libraries and modules\n",
    "import os, sys, time\n",
    "from random import *\n",
    "import pandas as pd\n",
    "from selenium import webdriver\n",
    "from selenium.webdriver.common.by import By\n",
    "from bs4 import BeautifulSoup"
   ]
  },
  {
   "cell_type": "code",
   "execution_count": 2,
   "metadata": {
    "collapsed": false
   },
   "outputs": [
    {
     "name": "stderr",
     "output_type": "stream",
     "text": [
      "C:\\Users\\Ozzi\\AppData\\Local\\Temp\\ipykernel_2436\\2141422295.py:1: DeprecationWarning: executable_path has been deprecated, please pass in a Service object\n",
      "  driver = webdriver.Chrome(r'C:\\Users\\Ozzi\\Documents\\LinkedIn_automation\\driver\\chromedriver.exe')\n"
     ]
    }
   ],
   "source": [
    "# add the driver path\n",
    "driver = webdriver.Chrome(r'\\driver\\chromedriver.exe')"
   ]
  },
  {
   "attachments": {},
   "cell_type": "markdown",
   "metadata": {},
   "source": [
    "## Procedure"
   ]
  },
  {
   "cell_type": "code",
   "execution_count": 3,
   "metadata": {
    "collapsed": false
   },
   "outputs": [],
   "source": [
    "# open the linkedin login page\n",
    "driver.get('https://www.linkedin.com/uas/login')"
   ]
  },
  {
   "cell_type": "code",
   "execution_count": 4,
   "metadata": {
    "collapsed": false
   },
   "outputs": [],
   "source": [
    "# read the username and password from the config file\n",
    "line = open('config.txt', 'r').readlines()\n",
    "username = line[0]\n",
    "password = line[1]"
   ]
  },
  {
   "cell_type": "code",
   "execution_count": 6,
   "metadata": {
    "collapsed": false
   },
   "outputs": [],
   "source": [
    "# find the username and password fields and enter the credentials\n",
    "elementID = driver.find_element(By.ID, 'username').send_keys(username)\n",
    "elementID = driver.find_element(By.ID, 'password').send_keys(password)"
   ]
  },
  {
   "attachments": {},
   "cell_type": "markdown",
   "metadata": {},
   "source": [
    "**Add the sale navigator filtered link.**\n",
    "\n",
    "The code will go the specific section and will scrap the details of the peoples, will store it\n",
    "in a list and will also generate an excel sheet too."
   ]
  },
  {
   "cell_type": "code",
   "execution_count": 7,
   "metadata": {},
   "outputs": [],
   "source": [
    "# Add the link here:\n",
    "driver.get('https://www.linkedin.com/sales/search/people?query=(recentSearchParam%3A(id%3A2105439369%2CdoLogHistory%3Atrue)%2Cfilters%3AList((type%3AREGION%2Cvalues%3AList((id%3A101282230%2Ctext%3AGermany%2CselectionType%3AINCLUDED)))%2C(type%3ASENIORITY_LEVEL%2Cvalues%3AList((id%3A8%2Ctext%3ACXO%2CselectionType%3AINCLUDED)%2C(id%3A6%2Ctext%3ADirector%2CselectionType%3AINCLUDED)))%2C(type%3AFUNCTION%2Cvalues%3AList((id%3A13%2Ctext%3AInformation%2520Technology%2CselectionType%3AINCLUDED)))%2C(type%3AYEARS_OF_EXPERIENCE%2Cvalues%3AList((id%3A5%2Ctext%3AMore%2520than%252010%2520years%2CselectionType%3AINCLUDED)))%2C(type%3APAST_COMPANY%2Cvalues%3AList((id%3A2508619%2Ctext%3ABosch%2CselectionType%3AINCLUDED)))))&sessionId=afxxwqmSQ%2FWpEUA3eSfzTg%3D%3D')"
   ]
  },
  {
   "cell_type": "code",
   "execution_count": 24,
   "metadata": {
    "collapsed": false
   },
   "outputs": [],
   "source": [
    "visitedProfile = []\n",
    "profileQueued = []"
   ]
  },
  {
   "cell_type": "code",
   "execution_count": 22,
   "metadata": {},
   "outputs": [],
   "source": [
    "def getNewProfileIDs(soup, profilesQueued):\n",
    "    \"\"\"\n",
    "        ftn to create a list of new profiles to be scraped from the search results page,\n",
    "        add them to the profilesQueued list and generate a excel file with the details too.\n",
    "\n",
    "    Args:\n",
    "        soup (object): page source of the search results page\n",
    "        profilesQueued (list): list of profiles already queued for scraping\n",
    "\n",
    "    Returns:\n",
    "        list: list of new profiles to be scraped\n",
    "    \"\"\"\n",
    "    \n",
    "    profilesID = []\n",
    "    names = []\n",
    "    titles = []\n",
    "    locations = []\n",
    "    companies = []\n",
    "    \n",
    "    # emails = []\n",
    "    # websites = []\n",
    "    \n",
    "    pav = soup.find('div', {'id': 'search-results-container'})\n",
    "    all_links = pav.find_all('a', {'data-control-name': 'view_lead_panel_via_search_lead_name'})\n",
    "    \n",
    "    FullName = pav.find_all('span', {'data-anonymize': 'person-name'})\n",
    "    Title = pav.find_all('span', {'data-anonymize': 'title'})\n",
    "    Location = pav.find_all('span', {'data-anonymize': 'location'})\n",
    "    company = pav.find_all('a', {'data-anonymize': 'company-name'})\n",
    "    \n",
    "    \n",
    "    for i, link in enumerate(all_links):\n",
    "        userID = link.get('href')\n",
    "        if((userID not in profilesQueued) and (userID not in visitedProfile)):\n",
    "            profilesID.append(userID)\n",
    "            names.append(FullName[i].text)\n",
    "            titles.append(Title[i].text)\n",
    "            locations.append(Location[i].text)\n",
    "            companies.append(company[i].text)\n",
    "    \n",
    "    df = pd.DataFrame({'FullName':names, 'Title':titles, 'Location':locations, 'Company':companies, 'ProfileID':profilesID})\n",
    "    df.to_excel('profiles.xlsx', index=False)\n",
    "    return profilesID"
   ]
  },
  {
   "cell_type": "code",
   "execution_count": 28,
   "metadata": {},
   "outputs": [],
   "source": [
    "# get the new profiles from the search results page\n",
    "profileQueued = getNewProfileIDs(BeautifulSoup(driver.page_source), profileQueued)"
   ]
  },
  {
   "cell_type": "code",
   "execution_count": 29,
   "metadata": {
    "collapsed": false
   },
   "outputs": [
    {
     "data": {
      "text/plain": [
       "(['/sales/lead/ACwAABqnREoBnyTo22gYT7gfkZm3k1k--kZQnwM,NAME_SEARCH,tb-M?_ntb=afxxwqmSQ%2FWpEUA3eSfzTg%3D%3D',\n",
       "  '/sales/lead/ACwAADOgrPoBCMrbUMEelSgc5aEUuSIx_LGEthU,NAME_SEARCH,_a5E?_ntb=afxxwqmSQ%2FWpEUA3eSfzTg%3D%3D',\n",
       "  '/sales/lead/ACwAAALwlG8BMEWE1ajbfh5Gjn1m6KlQyDpYAlo,NAME_SEARCH,WX9j?_ntb=afxxwqmSQ%2FWpEUA3eSfzTg%3D%3D'],\n",
       " 3)"
      ]
     },
     "execution_count": 29,
     "metadata": {},
     "output_type": "execute_result"
    }
   ],
   "source": [
    "profileQueued, len(profileQueued)"
   ]
  },
  {
   "cell_type": "code",
   "execution_count": 33,
   "metadata": {
    "collapsed": false
   },
   "outputs": [],
   "source": [
    "# go to the each profile \n",
    "# and send the connection request with a custom message and then pause for a random time\n",
    "# and then go to the next profile\n",
    "\n",
    "while profileQueued:\n",
    "    try:\n",
    "        visitingProfileID = profileQueued.pop()\n",
    "        visitedProfile.append(visitingProfileID)\n",
    "\n",
    "        fullLink = 'https://www.linkedin.com' + visitingProfileID\n",
    "        driver.get(fullLink)\n",
    "        driver.implicitly_wait(5)\n",
    "        \n",
    "        fullName = driver.find_element(By.XPATH, '/html/body/main/div[1]/div[3]/div/div[1]/div/div/section[1]/section[1]/div[1]/div[2]/h1').text\n",
    "\n",
    "        driver.find_element(By.XPATH,'/html/body/main/div[1]/div[3]/div/div[1]/div/div/section[1]/section[1]/div[2]/section/button').click()    \n",
    "\n",
    "        driver.find_element(By.XPATH,'/html/body/div[1]/div[1]/ul/li[1]/button').click()\n",
    "\n",
    "        customMessage = f\"Hello {fullName},\\nI have found mutual interest area and I would be more than happy to connect with you.\\nKindly, accept my invitation. Thanks!\"\n",
    "\n",
    "        elementID = driver.find_element(By.ID, 'connect-cta-form__invitation')\n",
    "        elementID.send_keys(customMessage)\n",
    "\n",
    "\n",
    "        driver.find_element(By.XPATH, '/html/body/div[6]/div/div/div[3]/div/button[2]').click()\n",
    "        \n",
    "\n",
    "        # Add the ID to the visitedUsersFile\n",
    "        with open('visitedUsers.txt', 'a') as visitedUsersFile:\n",
    "            visitedUsersFile.write(str(visitingProfileID)+'\\n')\n",
    "        visitedUsersFile.close()\n",
    "\n",
    "        # Pause\n",
    "        #Defining a random value for our delay (15-20 minutes)\n",
    "        sleepInt = randint(900, 1200)\n",
    "        time.sleep(sleepInt)\n",
    "\n",
    "        if(len(visitedProfiles)%50==0):\n",
    "            print('Visited Profiles: ', len(visitedProfiles))\n",
    "\n",
    "    except:\n",
    "        print('error')"
   ]
  }
 ],
 "metadata": {
  "kernelspec": {
   "display_name": "Python 3",
   "language": "python",
   "name": "python3"
  },
  "language_info": {
   "codemirror_mode": {
    "name": "ipython",
    "version": 3
   },
   "file_extension": ".py",
   "mimetype": "text/x-python",
   "name": "python",
   "nbconvert_exporter": "python",
   "pygments_lexer": "ipython3",
   "version": "3.10.1"
  }
 },
 "nbformat": 4,
 "nbformat_minor": 0
}
